{
 "cells": [
  {
   "cell_type": "code",
   "execution_count": 2,
   "metadata": {},
   "outputs": [],
   "source": [
    "import requests\n",
    "import pandas as pd\n",
    "from bs4 import BeautifulSoup"
   ]
  },
  {
   "cell_type": "code",
   "execution_count": 3,
   "metadata": {},
   "outputs": [
    {
     "name": "stdout",
     "output_type": "stream",
     "text": [
      "<!DOCTYPE html>\n",
      "<html lang=\"en\">\n",
      "<head>\n",
      "<!-- Google Tag Manager -->\n",
      "<script>(function (w, d, s, l, i) {\n",
      "\t\tw[l] = w[l] || [];\n",
      "\t\tw[l].push({\n",
      "\t\t\t'gtm.start':\n",
      "\t\t\t\tnew Date().getTime(), event: 'gtm.js'\n",
      "\t\t});\n",
      "\t\tvar f = d.getElementsByTagName(s)[0],\n",
      "\t\t\tj = d.createElement(s), dl = l != 'dataLayer' ? '&l=' + l : '';\n",
      "\t\tj.async = true;\n",
      "\t\tj.src =\n",
      "\t\t\t'https://www.googletagmanager.com/gtm.js?id=' + i + dl;\n",
      "\t\tf.parentNode.insertBefore(j, f);\n",
      "\t})(window, document, 'script', 'dataLayer', 'GTM-NVFPDWB');</script>\n",
      "<!-- End Google Tag Manager -->\n",
      "<title>Web Scraper Test Sites</title>\n",
      "<meta charset=\"utf-8\"/>\n",
      "<meta content=\"IE=edge,chrome=1\" http-equiv=\"X-UA-Compatible\"/>\n",
      "<meta content=\"web scraping,Web Scraper,Chrome extension,Crawling,Cross platform scraper\" name=\"keywords\"/>\n",
      "<meta content=\"The most popular web scraping extension. Start scraping in minutes. Automate your tasks with our Cloud Scraper. No software to download, no coding needed.\" name=\"description\"/>\n",
      "<link href=\"/favicon.png\" rel=\"icon\" sizes=\"128x128\"/>\n",
      "<meta content=\"width=device-width, initial-scale=1.0\" name=\"viewport\"/>\n",
      "<link href=\"/css/app.css?id=9531159a070ee12c5d50eeeab0f0cff6\" rel=\"stylesheet\"/>\n",
      "<link href=\"/css/ws-icons.css?id=22f9b5952f726fdaf92064e8583a73ef\" rel=\"stylesheet\"/>\n",
      "<link href=\"https://webscraper.io/test-sites/e-commerce/allinone/computers\" rel=\"canonical\"/>\n",
      "<link href=\"/img/logo-icon.png\" rel=\"apple-touch-icon\"/>\n",
      "<script defer=\"\" src=\"/js/vendor.js?id=0cef5345ac8e9f21f8b49c568b1f79ea\"></script>\n",
      "<script defer=\"\" src=\"/js/app.js?id=e2bba374afc660bffc9999f160acf545\"></script>\n",
      "</head>\n",
      "<body>\n",
      "<!-- Google Tag Manager (noscript) -->\n",
      "<noscript>\n",
      "<iframe height=\"0\" src=\"https://www.googletagmanager.com/ns.html?id=GTM-NVFPDWB\" style=\"display:none;visibility:hidden\" width=\"0\"></iframe>\n",
      "</noscript>\n",
      "<!-- End Google Tag Manager (noscript) -->\n",
      "<header class=\"navbar navbar-fixed-top navbar-static\" role=\"banner\">\n",
      "<div class=\"container\">\n",
      "<div class=\"navbar-header\">\n",
      "<a data-target=\".side-collapse\" data-target-2=\".side-collapse-container\" data-toggle=\"collapse-side\">\n",
      "<button aria-controls=\"navbar\" aria-expanded=\"false\" class=\"navbar-toggle pull-right collapsed\" data-target=\"#navbar\" data-target-2=\".side-collapse-container\" data-target-3=\".side-collapse\" data-toggle=\"collapse\" type=\"button\">\n",
      "<span class=\"sr-only\">Toggle navigation</span>\n",
      "<span class=\"icon-bar top-bar\"></span>\n",
      "<span class=\"icon-bar middle-bar\"></span>\n",
      "<span class=\"icon-bar bottom-bar\"></span>\n",
      "</button>\n",
      "</a>\n",
      "<div class=\"navbar-brand\">\n",
      "<a href=\"/\"><img alt=\"Web Scraper\" src=\"/img/logo_white.svg\"/></a>\n",
      "</div>\n",
      "</div>\n",
      "<div class=\"side-collapse in\">\n",
      "<nav class=\"navbar-collapse collapse\" id=\"navbar\" role=\"navigation\">\n",
      "<ul class=\"nav navbar-nav navbar-right\">\n",
      "<li class=\"hidden\">\n",
      "<a href=\"#page-top\"></a>\n",
      "</li>\n",
      "<li>\n",
      "<a class=\"menuitm\" href=\"/\">\n",
      "<p>Web Scraper</p>\n",
      "<div class=\"crta\"></div>\n",
      "</a>\n",
      "</li>\n",
      "<li>\n",
      "<a class=\"menuitm\" href=\"/cloud-scraper\">\n",
      "<p>Cloud Scraper</p>\n",
      "<div class=\"crta\"></div>\n",
      "</a>\n",
      "</li>\n",
      "<li>\n",
      "<a class=\"menuitm\" href=\"/pricing\">\n",
      "<p>Pricing</p>\n",
      "<div class=\"crta\"></div>\n",
      "</a>\n",
      "</li>\n",
      "<li class=\"dropdown\">\n",
      "<a class=\"menuitm dropdown-toggle\" data-toggle=\"dropdown\" href=\"#section3\">\n",
      "<p>Learn</p>\n",
      "<div class=\"crta\"></div>\n",
      "</a>\n",
      "<ul class=\"dropdown-menu\">\n",
      "<li>\n",
      "<a href=\"/documentation\">Documentation</a>\n",
      "</li>\n",
      "<li>\n",
      "<a href=\"/tutorials\">Video Tutorials</a>\n",
      "</li>\n",
      "<li>\n",
      "<a href=\"/how-to-videos\">How to</a>\n",
      "</li>\n",
      "<li>\n",
      "<a href=\"/test-sites\">Test Sites</a>\n",
      "</li>\n",
      "<li>\n",
      "<a href=\"https://forum.webscraper.io/\" rel=\"noopener\" target=\"_blank\">Forum</a>\n",
      "</li>\n",
      "</ul>\n",
      "</li>\n",
      "<li>\n",
      "<a class=\"btn-menu1 install-extension\" href=\"https://chrome.google.com/webstore/detail/web-scraper/jnhgnonknehpejjnehehllkliplmbmhn?hl=en\" target=\"_blank\">Install</a>\n",
      "</li>\n",
      "<li>\n",
      "<a class=\"btn-menu2 wide\" href=\"https://cloud.webscraper.io/\">Cloud Login</a>\n",
      "</li>\n",
      "</ul>\n",
      "</nav>\n",
      "</div>\n",
      "</div>\n",
      "</header>\n",
      "<div class=\"wrapper\">\n",
      "<div class=\"formenu-here container-fluid\">\n",
      "</div>\n",
      "<div class=\"container-fluid blog-hero\">\n",
      "<div class=\"container\">\n",
      "<div class=\"row\">\n",
      "<div class=\"col-md-12\">\n",
      "<h1>Test Sites</h1>\n",
      "</div>\n",
      "</div>\n",
      "</div>\n",
      "</div>\n",
      "<div class=\"container test-site\">\n",
      "<div class=\"row\">\n",
      "<div class=\"col-md-3 sidebar\">\n",
      "<div class=\"navbar-default sidebar\" role=\"navigation\">\n",
      "<div class=\"sidebar-nav navbar-collapse\">\n",
      "<ul class=\"nav\" id=\"side-menu\">\n",
      "<li>\n",
      "<a href=\"/test-sites/e-commerce/allinone\">Home</a>\n",
      "</li>\n",
      "<li>\n",
      "<a class=\"category-link\" href=\"/test-sites/e-commerce/allinone/phones\">\n",
      "\t\t\t\t\tPhones\n",
      "\t\t\t\t\t<i class=\"ws-icon ws-icon-right\"></i>\n",
      "</a>\n",
      "</li>\n",
      "<li class=\"active\">\n",
      "<a class=\"category-link active\" href=\"/test-sites/e-commerce/allinone/computers\">\n",
      "\t\t\t\t\tComputers\n",
      "\t\t\t\t\t<i class=\"ws-icon ws-icon-down\"></i>\n",
      "</a>\n",
      "<ul class=\"nav nav-second-level collapse in\">\n",
      "<li>\n",
      "<a class=\"subcategory-link\" href=\"/test-sites/e-commerce/allinone/computers/tablets\">\n",
      "\t\t\t\t\t\t\tTablets\n",
      "\t\t\t\t\t\t</a>\n",
      "</li>\n",
      "<li>\n",
      "<a class=\"subcategory-link\" href=\"/test-sites/e-commerce/allinone/computers/laptops\">\n",
      "\t\t\t\t\t\t\tLaptops\n",
      "\t\t\t\t\t\t</a>\n",
      "</li>\n",
      "</ul>\n",
      "</li>\n",
      "</ul>\n",
      "</div>\n",
      "</div>\n",
      "</div>\n",
      "<div class=\"col-md-9\">\n",
      "<h1 class=\"page-header\">Computers category</h1>\n",
      "<h2>Top items being scraped right now</h2>\n",
      "<div class=\"row\">\n",
      "<div class=\"col-sm-4 col-lg-4 col-md-4\">\n",
      "<div class=\"thumbnail\">\n",
      "<img alt=\"item\" class=\"img-responsive\" src=\"/images/test-sites/e-commerce/items/cart2.png\"/>\n",
      "<div class=\"caption\">\n",
      "<h4 class=\"pull-right price\">$1178.99</h4>\n",
      "<h4>\n",
      "<a class=\"title\" href=\"/test-sites/e-commerce/allinone/product/518\" title=\"ThinkPad T540p\">ThinkPad T540p</a>\n",
      "</h4>\n",
      "<p class=\"description\">15.6\", Core i5-4200M, 4GB, 500GB, Win7 Pro 64bit</p>\n",
      "</div>\n",
      "<div class=\"ratings\">\n",
      "<p class=\"pull-right\">2 reviews</p>\n",
      "<p data-rating=\"1\">\n",
      "<span class=\"ws-icon ws-icon-star\"></span>\n",
      "</p>\n",
      "</div>\n",
      "</div>\n",
      "</div>\n",
      "<div class=\"col-sm-4 col-lg-4 col-md-4\">\n",
      "<div class=\"thumbnail\">\n",
      "<img alt=\"item\" class=\"img-responsive\" src=\"/images/test-sites/e-commerce/items/cart2.png\"/>\n",
      "<div class=\"caption\">\n",
      "<h4 class=\"pull-right price\">$1799.00</h4>\n",
      "<h4>\n",
      "<a class=\"title\" href=\"/test-sites/e-commerce/allinone/product/544\" title=\"Asus ROG Strix SCAR Edition GL503VM-ED115T\">Asus ROG Strix S...</a>\n",
      "</h4>\n",
      "<p class=\"description\">Asus ROG Strix SCAR Edition GL503VM-ED115T, 15.6\" FHD 120Hz, Core i7-7700HQ, 16GB, 256GB SSD + 1TB SSHD, GeForce GTX 1060 6GB, Windows 10 Home</p>\n",
      "</div>\n",
      "<div class=\"ratings\">\n",
      "<p class=\"pull-right\">8 reviews</p>\n",
      "<p data-rating=\"3\">\n",
      "<span class=\"ws-icon ws-icon-star\"></span>\n",
      "<span class=\"ws-icon ws-icon-star\"></span>\n",
      "<span class=\"ws-icon ws-icon-star\"></span>\n",
      "</p>\n",
      "</div>\n",
      "</div>\n",
      "</div>\n",
      "<div class=\"col-sm-4 col-lg-4 col-md-4\">\n",
      "<div class=\"thumbnail\">\n",
      "<img alt=\"item\" class=\"img-responsive\" src=\"/images/test-sites/e-commerce/items/cart2.png\"/>\n",
      "<div class=\"caption\">\n",
      "<h4 class=\"pull-right price\">$1769.00</h4>\n",
      "<h4>\n",
      "<a class=\"title\" href=\"/test-sites/e-commerce/allinone/product/542\" title=\"Asus ROG Strix GL702ZC-GC154T\">Asus ROG Strix G...</a>\n",
      "</h4>\n",
      "<p class=\"description\">Asus ROG Strix GL702ZC-GC154T, 17.3\" FHD, Ryzen 7 1700, 16GB, 256GB + 1TB HDD, Radeon RX 580 4GB, Windows 10 Home</p>\n",
      "</div>\n",
      "<div class=\"ratings\">\n",
      "<p class=\"pull-right\">7 reviews</p>\n",
      "<p data-rating=\"4\">\n",
      "<span class=\"ws-icon ws-icon-star\"></span>\n",
      "<span class=\"ws-icon ws-icon-star\"></span>\n",
      "<span class=\"ws-icon ws-icon-star\"></span>\n",
      "<span class=\"ws-icon ws-icon-star\"></span>\n",
      "</p>\n",
      "</div>\n",
      "</div>\n",
      "</div>\n",
      "</div>\n",
      "</div>\n",
      "</div>\n",
      "</div>\n",
      "<div class=\"clearfix\"></div>\n",
      "<div class=\"push\"></div>\n",
      "</div>\n",
      "<div class=\"container-fluid footer\" id=\"layout-footer\">\n",
      "<div class=\"container\">\n",
      "<div class=\"row\">\n",
      "<div class=\"col-md-3\">\n",
      "<ul>\n",
      "<li><p>Products</p></li>\n",
      "<li>\n",
      "<a href=\"/\">Web Scraper browser extension</a>\n",
      "</li>\n",
      "<li>\n",
      "<a href=\"/pricing\">Web Scraper Cloud</a>\n",
      "</li>\n",
      "</ul>\n",
      "</div>\n",
      "<div class=\"col-md-3\">\n",
      "<ul>\n",
      "<li><p>Company</p></li>\n",
      "<li>\n",
      "<a href=\"/about-us\">About us</a>\n",
      "</li>\n",
      "<li>\n",
      "<a href=\"/contact\">Contact</a>\n",
      "</li>\n",
      "<li>\n",
      "<a href=\"/privacy-policy\">Website Privacy Policy</a>\n",
      "</li>\n",
      "<li>\n",
      "<a href=\"/extension-privacy-policy\">Browser Extension Privacy Policy</a>\n",
      "</li>\n",
      "<li>\n",
      "<a href=\"https://webscraper.io/downloads/Web_Scraper_Media_Kit.zip\">Media kit</a>\n",
      "</li>\n",
      "<li><a href=\"/jobs\">Jobs</a></li>\n",
      "</ul>\n",
      "</div>\n",
      "<div class=\"col-md-3\">\n",
      "<ul>\n",
      "<li><p>Resources</p></li>\n",
      "<li><a href=\"/blog\">Blog</a></li>\n",
      "<li>\n",
      "<a href=\"/documentation\">Documentation</a>\n",
      "</li>\n",
      "<li>\n",
      "<a href=\"/tutorials\">Video Tutorials</a>\n",
      "</li>\n",
      "<li>\n",
      "<a href=\"/screenshots\">Screenshots</a>\n",
      "</li>\n",
      "<li>\n",
      "<a href=\"/test-sites\">Test Sites</a>\n",
      "</li>\n",
      "<li>\n",
      "<a href=\"https://forum.webscraper.io/\" rel=\"noopener\" target=\"_blank\">Forum</a>\n",
      "</li>\n",
      "<li>\n",
      "<a href=\"https://status.webscraper.io/\" rel=\"noopener\" target=\"_blank\">Status</a>\n",
      "</li>\n",
      "</ul>\n",
      "</div>\n",
      "<div class=\"col-md-3\">\n",
      "<ul>\n",
      "<li><p>CONTACT US</p></li>\n",
      "<li>\n",
      "<a href=\"mailto:info@webscraper.io\">info@webscraper.io</a>\n",
      "</li>\n",
      "<li>Ubelu 5-71,<br/> Adazi, Latvia, LV-2164</li>\n",
      "</ul>\n",
      "<ul class=\"smedia\">\n",
      "<li>\n",
      "<a href=\"https://www.facebook.com/webscraperio/\" rel=\"noopener\" target=\"_blank\">\n",
      "<i class=\"ws-icon ws-icon-facebook-f\"></i>\n",
      "</a>\n",
      "</li>\n",
      "<li>\n",
      "<a href=\"https://twitter.com/webscraperio\" rel=\"noopener\" target=\"_blank\">\n",
      "<i class=\"ws-icon ws-icon-twitter\"></i>\n",
      "</a>\n",
      "</li>\n",
      "</ul>\n",
      "</div>\n",
      "</div>\n",
      "<div class=\"row\">\n",
      "<div class=\"col-md-12\">\n",
      "<p class=\"copyright\">Copyright &amp;copy 2023\n",
      "\t\t\t\t\t<a href=\"#\">Web Scraper</a> | All rights\n",
      "\t\t\t\t\treserved</p>\n",
      "</div>\n",
      "</div>\n",
      "</div>\n",
      "</div>\n",
      "</body>\n",
      "</html>\n",
      "\n"
     ]
    }
   ],
   "source": [
    "url = \"https://webscraper.io/test-sites/e-commerce/allinone/computers\"\n",
    "r = requests.get(url)\n",
    "soup = BeautifulSoup(r.text,\"lxml\")\n",
    "print(soup)"
   ]
  },
  {
   "cell_type": "code",
   "execution_count": 4,
   "metadata": {},
   "outputs": [
    {
     "name": "stdout",
     "output_type": "stream",
     "text": [
      "<a data-target=\".side-collapse\" data-target-2=\".side-collapse-container\" data-toggle=\"collapse-side\">\n",
      "<button aria-controls=\"navbar\" aria-expanded=\"false\" class=\"navbar-toggle pull-right collapsed\" data-target=\"#navbar\" data-target-2=\".side-collapse-container\" data-target-3=\".side-collapse\" data-toggle=\"collapse\" type=\"button\">\n",
      "<span class=\"sr-only\">Toggle navigation</span>\n",
      "<span class=\"icon-bar top-bar\"></span>\n",
      "<span class=\"icon-bar middle-bar\"></span>\n",
      "<span class=\"icon-bar bottom-bar\"></span>\n",
      "</button>\n",
      "</a>\n"
     ]
    }
   ],
   "source": [
    "print(soup.div.a)"
   ]
  },
  {
   "cell_type": "markdown",
   "metadata": {},
   "source": [
    "## Attributes"
   ]
  },
  {
   "cell_type": "code",
   "execution_count": 5,
   "metadata": {},
   "outputs": [
    {
     "name": "stdout",
     "output_type": "stream",
     "text": [
      "{'role': 'banner', 'class': ['navbar', 'navbar-fixed-top', 'navbar-static']}\n"
     ]
    }
   ],
   "source": [
    "tag = soup.header\n",
    "print(tag.attrs)"
   ]
  },
  {
   "cell_type": "code",
   "execution_count": 6,
   "metadata": {},
   "outputs": [
    {
     "name": "stdout",
     "output_type": "stream",
     "text": [
      "['navbar', 'navbar-fixed-top', 'navbar-static']\n"
     ]
    }
   ],
   "source": [
    "atb = tag.attrs\n",
    "print(atb['class'])"
   ]
  },
  {
   "cell_type": "code",
   "execution_count": 7,
   "metadata": {},
   "outputs": [
    {
     "name": "stdout",
     "output_type": "stream",
     "text": [
      "banner\n"
     ]
    }
   ],
   "source": [
    "atb = tag.attrs\n",
    "print(atb['role'])"
   ]
  },
  {
   "cell_type": "markdown",
   "metadata": {},
   "source": [
    "## Find()"
   ]
  },
  {
   "cell_type": "code",
   "execution_count": 8,
   "metadata": {},
   "outputs": [
    {
     "name": "stdout",
     "output_type": "stream",
     "text": [
      "$295.99\n",
      "Asus VivoBook X4...\n",
      "Asus VivoBook X441NA-GA190 Chocolate Black, 14\", Celeron N3450, 4GB, 128GB SSD, Endless OS, ENG kbd\n",
      "Asus VivoBook X441NA-GA190 Chocolate Black, 14\", Celeron N3450, 4GB, 128GB SSD, Endless OS, ENG kbd\n"
     ]
    }
   ],
   "source": [
    "url = \"https://webscraper.io/test-sites/e-commerce/allinone/computers/laptops\"\n",
    "r = requests.get(url)\n",
    "soup = BeautifulSoup(r.text,\"lxml\")\n",
    "a = soup.find('h4',{\"class\":\"pull-right price\"})\n",
    "b = soup.find('a',{\"class\":\"title\"})\n",
    "c = soup.find('p',{\"class\":\"description\"})\n",
    "## Alternative way to get the class\n",
    "dd = c = soup.find('p',class_=\"description\")\n",
    "print(a.text)\n",
    "print(b.string)\n",
    "print(c.string)\n",
    "print(dd.string)"
   ]
  },
  {
   "cell_type": "code",
   "execution_count": 9,
   "metadata": {},
   "outputs": [
    {
     "data": {
      "text/plain": [
       "<div class=\"container\">\n",
       "<div class=\"navbar-header\">\n",
       "<a data-target=\".side-collapse\" data-target-2=\".side-collapse-container\" data-toggle=\"collapse-side\">\n",
       "<button aria-controls=\"navbar\" aria-expanded=\"false\" class=\"navbar-toggle pull-right collapsed\" data-target=\"#navbar\" data-target-2=\".side-collapse-container\" data-target-3=\".side-collapse\" data-toggle=\"collapse\" type=\"button\">\n",
       "<span class=\"sr-only\">Toggle navigation</span>\n",
       "<span class=\"icon-bar top-bar\"></span>\n",
       "<span class=\"icon-bar middle-bar\"></span>\n",
       "<span class=\"icon-bar bottom-bar\"></span>\n",
       "</button>\n",
       "</a>\n",
       "<div class=\"navbar-brand\">\n",
       "<a href=\"/\"><img alt=\"Web Scraper\" src=\"/img/logo_white.svg\"/></a>\n",
       "</div>\n",
       "</div>\n",
       "<div class=\"side-collapse in\">\n",
       "<nav class=\"navbar-collapse collapse\" id=\"navbar\" role=\"navigation\">\n",
       "<ul class=\"nav navbar-nav navbar-right\">\n",
       "<li class=\"hidden\">\n",
       "<a href=\"#page-top\"></a>\n",
       "</li>\n",
       "<li>\n",
       "<a class=\"menuitm\" href=\"/\">\n",
       "<p>Web Scraper</p>\n",
       "<div class=\"crta\"></div>\n",
       "</a>\n",
       "</li>\n",
       "<li>\n",
       "<a class=\"menuitm\" href=\"/cloud-scraper\">\n",
       "<p>Cloud Scraper</p>\n",
       "<div class=\"crta\"></div>\n",
       "</a>\n",
       "</li>\n",
       "<li>\n",
       "<a class=\"menuitm\" href=\"/pricing\">\n",
       "<p>Pricing</p>\n",
       "<div class=\"crta\"></div>\n",
       "</a>\n",
       "</li>\n",
       "<li class=\"dropdown\">\n",
       "<a class=\"menuitm dropdown-toggle\" data-toggle=\"dropdown\" href=\"#section3\">\n",
       "<p>Learn</p>\n",
       "<div class=\"crta\"></div>\n",
       "</a>\n",
       "<ul class=\"dropdown-menu\">\n",
       "<li>\n",
       "<a href=\"/documentation\">Documentation</a>\n",
       "</li>\n",
       "<li>\n",
       "<a href=\"/tutorials\">Video Tutorials</a>\n",
       "</li>\n",
       "<li>\n",
       "<a href=\"/how-to-videos\">How to</a>\n",
       "</li>\n",
       "<li>\n",
       "<a href=\"/test-sites\">Test Sites</a>\n",
       "</li>\n",
       "<li>\n",
       "<a href=\"https://forum.webscraper.io/\" rel=\"noopener\" target=\"_blank\">Forum</a>\n",
       "</li>\n",
       "</ul>\n",
       "</li>\n",
       "<li>\n",
       "<a class=\"btn-menu1 install-extension\" href=\"https://chrome.google.com/webstore/detail/web-scraper/jnhgnonknehpejjnehehllkliplmbmhn?hl=en\" target=\"_blank\">Install</a>\n",
       "</li>\n",
       "<li>\n",
       "<a class=\"btn-menu2 wide\" href=\"https://cloud.webscraper.io/\">Cloud Login</a>\n",
       "</li>\n",
       "</ul>\n",
       "</nav>\n",
       "</div>\n",
       "</div>"
      ]
     },
     "execution_count": 9,
     "metadata": {},
     "output_type": "execute_result"
    }
   ],
   "source": [
    "# find the all div tag\n",
    "soup.find(('div'))\n"
   ]
  },
  {
   "cell_type": "code",
   "execution_count": 10,
   "metadata": {},
   "outputs": [
    {
     "data": {
      "text/plain": [
       "<h4 class=\"pull-right price\">$295.99</h4>"
      ]
     },
     "execution_count": 10,
     "metadata": {},
     "output_type": "execute_result"
    }
   ],
   "source": [
    "soup.find(('h4'))"
   ]
  },
  {
   "cell_type": "code",
   "execution_count": 11,
   "metadata": {},
   "outputs": [
    {
     "data": {
      "text/plain": [
       "<h1>Test Sites</h1>"
      ]
     },
     "execution_count": 11,
     "metadata": {},
     "output_type": "execute_result"
    }
   ],
   "source": [
    "soup.find(('h1'))"
   ]
  },
  {
   "cell_type": "code",
   "execution_count": 12,
   "metadata": {},
   "outputs": [
    {
     "data": {
      "text/plain": [
       "<a data-target=\".side-collapse\" data-target-2=\".side-collapse-container\" data-toggle=\"collapse-side\">\n",
       "<button aria-controls=\"navbar\" aria-expanded=\"false\" class=\"navbar-toggle pull-right collapsed\" data-target=\"#navbar\" data-target-2=\".side-collapse-container\" data-target-3=\".side-collapse\" data-toggle=\"collapse\" type=\"button\">\n",
       "<span class=\"sr-only\">Toggle navigation</span>\n",
       "<span class=\"icon-bar top-bar\"></span>\n",
       "<span class=\"icon-bar middle-bar\"></span>\n",
       "<span class=\"icon-bar bottom-bar\"></span>\n",
       "</button>\n",
       "</a>"
      ]
     },
     "execution_count": 12,
     "metadata": {},
     "output_type": "execute_result"
    }
   ],
   "source": [
    "soup.find(('a'))"
   ]
  },
  {
   "cell_type": "markdown",
   "metadata": {},
   "source": [
    "## Find All"
   ]
  },
  {
   "cell_type": "code",
   "execution_count": 13,
   "metadata": {},
   "outputs": [
    {
     "name": "stdout",
     "output_type": "stream",
     "text": [
      "(21, 4)\n"
     ]
    },
    {
     "data": {
      "text/html": [
       "<div>\n",
       "<style scoped>\n",
       "    .dataframe tbody tr th:only-of-type {\n",
       "        vertical-align: middle;\n",
       "    }\n",
       "\n",
       "    .dataframe tbody tr th {\n",
       "        vertical-align: top;\n",
       "    }\n",
       "\n",
       "    .dataframe thead th {\n",
       "        text-align: right;\n",
       "    }\n",
       "</style>\n",
       "<table border=\"1\" class=\"dataframe\">\n",
       "  <thead>\n",
       "    <tr style=\"text-align: right;\">\n",
       "      <th></th>\n",
       "      <th>Price</th>\n",
       "      <th>Description</th>\n",
       "      <th>Title</th>\n",
       "      <th>review</th>\n",
       "    </tr>\n",
       "  </thead>\n",
       "  <tbody>\n",
       "    <tr>\n",
       "      <th>0</th>\n",
       "      <td>$69.99</td>\n",
       "      <td>7\" screen, Android</td>\n",
       "      <td>Lenovo IdeaTab</td>\n",
       "      <td>7 reviews</td>\n",
       "    </tr>\n",
       "    <tr>\n",
       "      <th>1</th>\n",
       "      <td>$88.99</td>\n",
       "      <td>Black, 7\" IPS, Quad-Core 1.2GHz, 8GB, Android 4.2</td>\n",
       "      <td>IdeaTab A3500L</td>\n",
       "      <td>7 reviews</td>\n",
       "    </tr>\n",
       "    <tr>\n",
       "      <th>2</th>\n",
       "      <td>$96.99</td>\n",
       "      <td>7\" screen, Android, 16GB</td>\n",
       "      <td>Acer Iconia</td>\n",
       "      <td>7 reviews</td>\n",
       "    </tr>\n",
       "    <tr>\n",
       "      <th>3</th>\n",
       "      <td>$97.99</td>\n",
       "      <td>7\", 8GB, Wi-Fi, Android 4.2, White</td>\n",
       "      <td>Galaxy Tab 3</td>\n",
       "      <td>2 reviews</td>\n",
       "    </tr>\n",
       "    <tr>\n",
       "      <th>4</th>\n",
       "      <td>$99.99</td>\n",
       "      <td>Black, 7\", 1.6GHz Dual-Core, 8GB, Android 4.4</td>\n",
       "      <td>Iconia B1-730HD</td>\n",
       "      <td>1 reviews</td>\n",
       "    </tr>\n",
       "  </tbody>\n",
       "</table>\n",
       "</div>"
      ],
      "text/plain": [
       "    Price                                        Description            Title  \\\n",
       "0  $69.99                                 7\" screen, Android   Lenovo IdeaTab   \n",
       "1  $88.99  Black, 7\" IPS, Quad-Core 1.2GHz, 8GB, Android 4.2   IdeaTab A3500L   \n",
       "2  $96.99                           7\" screen, Android, 16GB      Acer Iconia   \n",
       "3  $97.99                 7\", 8GB, Wi-Fi, Android 4.2, White     Galaxy Tab 3   \n",
       "4  $99.99      Black, 7\", 1.6GHz Dual-Core, 8GB, Android 4.4  Iconia B1-730HD   \n",
       "\n",
       "      review  \n",
       "0  7 reviews  \n",
       "1  7 reviews  \n",
       "2  7 reviews  \n",
       "3  2 reviews  \n",
       "4  1 reviews  "
      ]
     },
     "execution_count": 13,
     "metadata": {},
     "output_type": "execute_result"
    }
   ],
   "source": [
    "url = \"https://webscraper.io/test-sites/e-commerce/allinone/computers/tablets\"\n",
    "r = requests.get(url)\n",
    "soup = BeautifulSoup(r.text,'lxml') \n",
    "\n",
    "price = soup.find_all(\"h4\",class_=\"pull-right price\")\n",
    "desc = soup.find_all('p',class_=\"description\")\n",
    "title = soup.find_all('a',class_=\"title\")\n",
    "review = soup.find_all('p',class_=\"pull-right\")\n",
    "\n",
    "\n",
    "# Extracting text from 'price' elements\n",
    "price_text  = [i.text for i in price]\n",
    "# Extracting text from 'desc' elements\n",
    "desc_text   = [i.text for i in desc ]\n",
    "# Extracting text from 'title' elements\n",
    "title_text  = [i.text for i in title]\n",
    "# Extract text from 'review' element\n",
    "review_text = [i.text for i in review]\n",
    "\n",
    "# Create a pandas DataFrame with the extracted data\n",
    "data = {\n",
    "    'Price': price_text,\n",
    "    'Description': desc_text,\n",
    "    'Title': title_text,\n",
    "    'review':review_text\n",
    "}\n",
    "df = pd.DataFrame(data)\n",
    "print(df.shape)\n",
    "df.head()\n"
   ]
  },
  {
   "cell_type": "markdown",
   "metadata": {},
   "source": [
    "## Navigable Strings in Html "
   ]
  },
  {
   "cell_type": "code",
   "execution_count": 14,
   "metadata": {},
   "outputs": [],
   "source": [
    "# url = \"https://webscraper.io/test-sites/e-commerce/allinone/computers\"\n",
    "\n",
    "# r = requests.get(url)\n",
    "# soup = BeautifulSoup(r.text,\"lxml\")\n",
    "# tag1 = soup.h1.string\n",
    "# tag2 = soup.h2.string\n",
    "# tag3 = soup.h4.string\n",
    "\n",
    "# print(tag)\n",
    "# print(tag2)\n",
    "# print(tag3)\n",
    "\n"
   ]
  },
  {
   "cell_type": "markdown",
   "metadata": {},
   "source": [
    "1. Extract Data from `Nested HTML Tags` - Explained | Web Scraping Tutorials [English] "
   ]
  },
  {
   "cell_type": "code",
   "execution_count": 15,
   "metadata": {},
   "outputs": [
    {
     "data": {
      "text/html": [
       "<div>\n",
       "<style scoped>\n",
       "    .dataframe tbody tr th:only-of-type {\n",
       "        vertical-align: middle;\n",
       "    }\n",
       "\n",
       "    .dataframe tbody tr th {\n",
       "        vertical-align: top;\n",
       "    }\n",
       "\n",
       "    .dataframe thead th {\n",
       "        text-align: right;\n",
       "    }\n",
       "</style>\n",
       "<table border=\"1\" class=\"dataframe\">\n",
       "  <thead>\n",
       "    <tr style=\"text-align: right;\">\n",
       "      <th></th>\n",
       "      <th>name</th>\n",
       "      <th>desc</th>\n",
       "      <th>price</th>\n",
       "      <th>review</th>\n",
       "    </tr>\n",
       "  </thead>\n",
       "  <tbody>\n",
       "    <tr>\n",
       "      <th>0</th>\n",
       "      <td>Lenovo IdeaTab</td>\n",
       "      <td>7\" screen, Android</td>\n",
       "      <td>$69.99</td>\n",
       "      <td>7 reviews</td>\n",
       "    </tr>\n",
       "    <tr>\n",
       "      <th>1</th>\n",
       "      <td>IdeaTab A3500L</td>\n",
       "      <td>Black, 7\" IPS, Quad-Core 1.2GHz, 8GB, Android 4.2</td>\n",
       "      <td>$88.99</td>\n",
       "      <td>7 reviews</td>\n",
       "    </tr>\n",
       "    <tr>\n",
       "      <th>2</th>\n",
       "      <td>Acer Iconia</td>\n",
       "      <td>7\" screen, Android, 16GB</td>\n",
       "      <td>$96.99</td>\n",
       "      <td>7 reviews</td>\n",
       "    </tr>\n",
       "    <tr>\n",
       "      <th>3</th>\n",
       "      <td>Galaxy Tab 3</td>\n",
       "      <td>7\", 8GB, Wi-Fi, Android 4.2, White</td>\n",
       "      <td>$97.99</td>\n",
       "      <td>2 reviews</td>\n",
       "    </tr>\n",
       "    <tr>\n",
       "      <th>4</th>\n",
       "      <td>Iconia B1-730HD</td>\n",
       "      <td>Black, 7\", 1.6GHz Dual-Core, 8GB, Android 4.4</td>\n",
       "      <td>$99.99</td>\n",
       "      <td>1 reviews</td>\n",
       "    </tr>\n",
       "  </tbody>\n",
       "</table>\n",
       "</div>"
      ],
      "text/plain": [
       "              name                                               desc   price  \\\n",
       "0   Lenovo IdeaTab                                 7\" screen, Android  $69.99   \n",
       "1   IdeaTab A3500L  Black, 7\" IPS, Quad-Core 1.2GHz, 8GB, Android 4.2  $88.99   \n",
       "2      Acer Iconia                           7\" screen, Android, 16GB  $96.99   \n",
       "3     Galaxy Tab 3                 7\", 8GB, Wi-Fi, Android 4.2, White  $97.99   \n",
       "4  Iconia B1-730HD      Black, 7\", 1.6GHz Dual-Core, 8GB, Android 4.4  $99.99   \n",
       "\n",
       "      review  \n",
       "0  7 reviews  \n",
       "1  7 reviews  \n",
       "2  7 reviews  \n",
       "3  2 reviews  \n",
       "4  1 reviews  "
      ]
     },
     "execution_count": 15,
     "metadata": {},
     "output_type": "execute_result"
    }
   ],
   "source": [
    "url = \"https://webscraper.io/test-sites/e-commerce/allinone/computers/tablets\"\n",
    "r = requests.get(url)\n",
    "\n",
    "soup = BeautifulSoup(r.text,\"lxml\")\n",
    "\n",
    "# create empty list\n",
    "names    = []\n",
    "description    = []\n",
    "prices   = []\n",
    "reviews  = []\n",
    "\n",
    "boxes = soup.find_all(\"div\",class_ =\"col-sm-4 col-lg-4 col-md-4\")\n",
    "\n",
    "# Loop through each box and extract the data\n",
    "\n",
    "for box in boxes:\n",
    "    name = box.find('a').text\n",
    "    names.append(name.strip())\n",
    "\n",
    "    desc = box.find('p').text\n",
    "    description.append(desc.strip())\n",
    "    \n",
    "    price = box.find('h4').text\n",
    "    prices.append(price.strip())\n",
    "    \n",
    "    review = box.find('p',class_ = \"pull-right\").text\n",
    "    reviews.append(review.strip())\n",
    "    \n",
    "    \n",
    "## create a dict \n",
    "data = { \"name\"  :names,\"desc\":description,\"price\":prices,\"review\":reviews}\n",
    "    \n",
    "df = pd.DataFrame(data)\n",
    "df.head()"
   ]
  },
  {
   "cell_type": "markdown",
   "metadata": {},
   "source": [
    "2.How to Scrape a `Table` From a Website using BeautifulSoup"
   ]
  },
  {
   "cell_type": "code",
   "execution_count": 16,
   "metadata": {},
   "outputs": [
    {
     "name": "stdout",
     "output_type": "stream",
     "text": [
      "['Company', 'PriceRs.', 'Day HighRs.']\n"
     ]
    }
   ],
   "source": [
    "import pandas as pd\n",
    "import requests\n",
    "from bs4 import BeautifulSoup\n",
    "url = \"https://ticker.finology.in/\"\n",
    "r =  requests.get(url)\n",
    "soup = BeautifulSoup(r.text,\"lxml\")\n",
    "\n",
    "table  = soup.find(\"table\",class_=\"table table-sm table-hover screenertable\")\n",
    "\n",
    "\n",
    "heading = table.find_all('th')\n",
    "\n",
    "title = []\n",
    "\n",
    "for i in heading:\n",
    "    name = i.text\n",
    "    title.append(name)\n",
    "    \n",
    "print(title)\n",
    "\n"
   ]
  },
  {
   "cell_type": "code",
   "execution_count": 17,
   "metadata": {},
   "outputs": [
    {
     "name": "stdout",
     "output_type": "stream",
     "text": [
      "['Company', 'PriceRs.', 'Day HighRs.']\n"
     ]
    }
   ],
   "source": [
    "# second table \n",
    "url = \"https://ticker.finology.in/\"\n",
    "r = requests.get(url)\n",
    "soup = BeautifulSoup(r.text,\"lxml\")\n",
    "\n",
    "table2 = soup.find(\"table\",class_= \"table table-sm table-hover screenertable\")\n",
    "\n",
    "\n",
    "head = table2.find_all(\"th\")\n",
    "\n",
    "test = []\n",
    "for i in head:\n",
    "    da = i.text\n",
    "    test.append(da.strip())\n",
    "\n",
    "print(test)"
   ]
  },
  {
   "cell_type": "code",
   "execution_count": 18,
   "metadata": {},
   "outputs": [
    {
     "name": "stdout",
     "output_type": "stream",
     "text": [
      "['Company', 'PriceRs.', 'Day LowRs.']\n"
     ]
    }
   ],
   "source": [
    "import requests\n",
    "from bs4 import BeautifulSoup\n",
    "\n",
    "url = \"https://ticker.finology.in/\"\n",
    "r = requests.get(url)\n",
    "soup = BeautifulSoup(r.text, \"lxml\")\n",
    "\n",
    "# Find all table elements\n",
    "tables = soup.find_all(\"table\", class_=\"table table-sm table-hover screenertable\")\n",
    "\n",
    "# Check if the table exists\n",
    "if len(tables) > 3:\n",
    "    second_table = tables[1]\n",
    "\n",
    "    # Find all th elements (headings) in the second table\n",
    "    headings = second_table.find_all('th')\n",
    "\n",
    "    # Extract the heading text and store it in a list\n",
    "    second_table_headings = [heading.text.strip() for heading in headings]\n",
    "\n",
    "    print(second_table_headings)\n",
    "else:\n",
    "    print(\"There is no second table on the page.\")\n"
   ]
  },
  {
   "cell_type": "code",
   "execution_count": 19,
   "metadata": {},
   "outputs": [
    {
     "name": "stdout",
     "output_type": "stream",
     "text": [
      "['Company', 'PriceRs.', 'Day HighRs.']\n"
     ]
    }
   ],
   "source": [
    "# second table \n",
    "url = \"https://ticker.finology.in/\"\n",
    "r = requests.get(url)\n",
    "soup = BeautifulSoup(r.text,\"lxml\")\n",
    "\n",
    "table2 = soup.find(\"table\",class_= \"table table-sm table-hover screenertable\")\n",
    "\n",
    "\n",
    "head = table2.find_all(\"th\")\n",
    "\n",
    "test = []\n",
    "for i in head:\n",
    "    da = i.text\n",
    "    test.append(da.strip())\n",
    "\n",
    "print(test)"
   ]
  },
  {
   "cell_type": "code",
   "execution_count": 20,
   "metadata": {},
   "outputs": [],
   "source": [
    "import requests\n",
    "from bs4 import BeautifulSoup\n",
    "url = \"https://ticker.finology.in/\"\n",
    "r = requests.get(url)\n",
    "soup = BeautifulSoup(r.text,\"lxml\")\n",
    "table = soup.find(\"table\",class_=\"table table-sm table-hover screenertable\")\n",
    "header = table.find_all('th')\n",
    "titles = []\n",
    "for i in header:\n",
    "    title = i.text\n",
    "    titles.append(title.strip())\n",
    "\n",
    "df = pd.DataFrame(columns=titles)\n",
    "# print(df)\n",
    "    \n",
    "rows = table.find_all(\"tr\")\n",
    "\n",
    "for i in rows[1:]:\n",
    "    data = i.find_all(\"td\")\n",
    "    row  = [tr.text for  tr in data]\n",
    "    # print(row)\n",
    "    l = len(df)\n",
    "    df.loc[l] = row\n",
    "# df.head(21)"
   ]
  },
  {
   "cell_type": "code",
   "execution_count": 30,
   "metadata": {},
   "outputs": [
    {
     "name": "stdout",
     "output_type": "stream",
     "text": [
      "[]\n"
     ]
    }
   ],
   "source": [
    "url = 'https://dps.psx.com.pk/listings'\n",
    "\n",
    "r = requests.get(url)\n",
    "soup = BeautifulSoup(r.text,\"lxml\")\n",
    "\n",
    "page = soup.find_all('div',class_=\"dataTables_paginate paging_simple_numbers\")\n",
    "print(page)"
   ]
  }
 ],
 "metadata": {
  "kernelspec": {
   "display_name": "Python 3",
   "language": "python",
   "name": "python3"
  },
  "language_info": {
   "codemirror_mode": {
    "name": "ipython",
    "version": 3
   },
   "file_extension": ".py",
   "mimetype": "text/x-python",
   "name": "python",
   "nbconvert_exporter": "python",
   "pygments_lexer": "ipython3",
   "version": "3.10.8"
  },
  "orig_nbformat": 4
 },
 "nbformat": 4,
 "nbformat_minor": 2
}
